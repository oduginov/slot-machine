{
 "cells": [
  {
   "cell_type": "code",
   "execution_count": 1,
   "metadata": {
    "collapsed": true,
    "pycharm": {
     "name": "#%%\n"
    }
   },
   "outputs": [],
   "source": [
    "import numpy as np\n",
    "\n",
    "class SlotMachine:\n",
    "    def __init__(self, height, width, reels, reel_length, payoff, free_spins):\n",
    "        self.height = height\n",
    "        self.width = width\n",
    "        self.window = np.zeros((height, width))\n",
    "        self.reels = reels\n",
    "        self.reel_length = reel_length\n",
    "        self.payoff = payoff\n",
    "        self.wild = 2\n",
    "        self.scatter = 1\n",
    "        self.free_spins = free_spins\n",
    "        self.bonus_play = 0\n",
    "        self.rng = np.random.default_rng(seed=202)\n",
    "\n",
    "    def spin(self):\n",
    "        stops = self.rng.integers(0, self.reel_length, size=self.width, dtype=np.int32, endpoint=False)\n",
    "        for i in range(self.width):\n",
    "            for j in range(self.height):\n",
    "                self.window[j][i] = self.reels[i][(stops[i] + j) % self.reel_length]\n",
    "\n",
    "    def pay(self):\n",
    "        payment = 0\n",
    "        for i in range(self.height):\n",
    "            pay_symbol = self.window[i][0]\n",
    "            winlines = []  # an array of numbers of pay symbols per column\n",
    "            for j in range(self.width):\n",
    "                reel = self.window[:, j]\n",
    "                y = sum([np.count_nonzero(reel == x) for x in [pay_symbol, self.wild]])\n",
    "                if y > 0:\n",
    "                    winlines.append(y)\n",
    "                else:\n",
    "                    break\n",
    "            payment += self.payoff[int(pay_symbol)][len(winlines) - 1] * np.prod(winlines)\n",
    "            if len(winlines) >= 3:\n",
    "                self.probs[int(pay_symbol) - 1][len(winlines) - 3] +=  np.prod(winlines)\n",
    "        return payment\n",
    "\n",
    "    def get_free_spins(self):\n",
    "        c = 0\n",
    "        for i in range(self.width):\n",
    "            reel = self.window[:, i]\n",
    "            c += np.count_nonzero(reel == self.scatter)\n",
    "        if c >= 3:\n",
    "            self.spins_with_bonus_spins += 1\n",
    "        for k, v in self.free_spins.items():\n",
    "            self.bonus_play += int(c / k) * v\n",
    "            c = c % k\n",
    "\n",
    "    def play(self, iters):\n",
    "        payment = 0\n",
    "        total_iters = 0;\n",
    "        self.probs = np.zeros((11, 3))\n",
    "        self.bonus_play = 0\n",
    "        total_bonus_spin = 0\n",
    "        self.spins_with_bonus_spins = 0;\n",
    "        for i in range(iters):\n",
    "            self.spin()\n",
    "            # print(self.window)\n",
    "            total_iters += 1\n",
    "            payment += self.pay()\n",
    "            # print(payment)\n",
    "            self.get_free_spins()\n",
    "            while self.bonus_play > 0:\n",
    "                self.bonus_play -= 1\n",
    "                total_bonus_spin += 1\n",
    "                self.spin()\n",
    "                total_iters += 1\n",
    "                payment += self.pay()\n",
    "                self.get_free_spins()\n",
    "        return {'RTP' : payment * 100.0 / (iters * 1000),\n",
    "                'probs': self.probs[2:, :] / total_iters,\n",
    "                'mean value of free spins' : total_bonus_spin/total_iters,\n",
    "                'probability of a free spin' : self.spins_with_bonus_spins / total_iters}"
   ]
  },
  {
   "cell_type": "code",
   "execution_count": 2,
   "outputs": [
    {
     "data": {
      "text/plain": "{'RTP': 94.40577,\n 'probs': array([[0.00661166, 0.00169493, 0.00061448],\n        [0.02627147, 0.01007   , 0.00614391],\n        [0.02429997, 0.00970452, 0.00618748],\n        [0.02436044, 0.00956579, 0.00610478],\n        [0.02434444, 0.00939061, 0.00607544],\n        [0.06045825, 0.03136427, 0.02901573],\n        [0.07398126, 0.03916754, 0.03867311],\n        [0.05083021, 0.02672588, 0.02921759],\n        [0.05999673, 0.03180445, 0.02905041]]),\n 'mean value of free spins': 0.11073801630550774,\n 'probability of a free spin': 0.018025340409487358}"
     },
     "execution_count": 2,
     "metadata": {},
     "output_type": "execute_result"
    }
   ],
   "source": [
    "reel_1 = [10, 1, 4, 5, 8, 11, 4, 5, 9, 8, 7, 11, 10, 6, 7, 9, 8, 10, 3, 9, 11, 6, 9]\n",
    "reel_2345 = [6, 1, 3, 8, 7, 6, 9, 11, 2, 8, 4, 5, 10, 11, 4, 10, 8, 7, 9, 11, 5, 10, 9]\n",
    "payoff = [\n",
    "    [0, 0, 0, 0, 0],\n",
    "    [0, 0, 0, 0, 0],\n",
    "    [0, 0, 0, 0, 0],\n",
    "    [0, 0, 2000, 10000, 20000],\n",
    "    [0, 0, 1000, 5000, 10000],\n",
    "    [0, 0, 1000, 4000, 6000],\n",
    "    [0, 0, 1000, 2000, 5000],\n",
    "    [0, 0, 500, 1000, 4000],\n",
    "    [0, 0, 500, 1000, 4000],\n",
    "    [0, 0, 100, 500, 2000],\n",
    "    [0, 0, 100, 500, 2000],\n",
    "    [0, 0, 100, 500, 2000]\n",
    "]\n",
    "free_spins = {5: 10, 4: 8, 3: 6}\n",
    "reels = [reel_1, reel_2345, reel_2345, reel_2345, reel_2345]\n",
    "reel_length = len(reel_1)\n",
    "sm = SlotMachine(height=3, width=5, reels=reels, reel_length=reel_length, payoff=payoff, free_spins=free_spins)\n",
    "sm.play(1000000)"
   ],
   "metadata": {
    "collapsed": false,
    "pycharm": {
     "name": "#%%\n"
    }
   }
  },
  {
   "cell_type": "code",
   "execution_count": 2,
   "outputs": [],
   "source": [],
   "metadata": {
    "collapsed": false,
    "pycharm": {
     "name": "#%%\n"
    }
   }
  }
 ],
 "metadata": {
  "kernelspec": {
   "display_name": "Python 3",
   "language": "python",
   "name": "python3"
  },
  "language_info": {
   "codemirror_mode": {
    "name": "ipython",
    "version": 2
   },
   "file_extension": ".py",
   "mimetype": "text/x-python",
   "name": "python",
   "nbconvert_exporter": "python",
   "pygments_lexer": "ipython2",
   "version": "2.7.6"
  }
 },
 "nbformat": 4,
 "nbformat_minor": 0
}