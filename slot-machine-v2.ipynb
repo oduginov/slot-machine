{
 "cells": [
  {
   "cell_type": "code",
   "execution_count": 17,
   "metadata": {
    "collapsed": true,
    "pycharm": {
     "name": "#%%\n"
    }
   },
   "outputs": [],
   "source": [
    "import numpy as np\n",
    "\n",
    "class SlotMachine:\n",
    "    def __init__(self, height, width, reels, reel_length, payoff, free_spins, seed = 2022):\n",
    "        self.height = height\n",
    "        self.width = width\n",
    "        self.window = np.zeros((height, width))\n",
    "        self.reels = reels\n",
    "        self.reel_length = reel_length\n",
    "        self.payoff = payoff\n",
    "        self.wild = 2\n",
    "        self.scatter = 1\n",
    "        self.free_spins = free_spins\n",
    "        self.bonus_play = 0\n",
    "        self.rng = np.random.default_rng(seed)\n",
    "\n",
    "    def spin(self):\n",
    "        stops = self.rng.integers(0, self.reel_length, size=self.width, dtype=np.int32, endpoint=False)\n",
    "        for i in range(self.width):\n",
    "            for j in range(self.height):\n",
    "                self.window[j][i] = self.reels[i][(stops[i] + j) % self.reel_length]\n",
    "\n",
    "    def pay(self):\n",
    "        payment = 0\n",
    "        for i in range(self.height):\n",
    "            pay_symbol = self.window[i][0]\n",
    "            winlines = []\n",
    "            for j in range(self.width):\n",
    "                reel = self.window[:, j]\n",
    "                y = sum([np.count_nonzero(reel == x) for x in [pay_symbol, self.wild]])\n",
    "                if y > 0:\n",
    "                    winlines.append(y)\n",
    "                else:\n",
    "                    break\n",
    "            payment += self.payoff[int(pay_symbol)][len(winlines) - 1] * np.prod(winlines)\n",
    "            if len(winlines) >= 3:\n",
    "                self.probs[int(pay_symbol) - 1][len(winlines) - 3] +=  np.prod(winlines)\n",
    "        return payment\n",
    "\n",
    "    def get_free_spins(self):\n",
    "        c = 0\n",
    "        for i in range(self.width):\n",
    "            reel = self.window[:, i]\n",
    "            c += np.count_nonzero(reel == self.scatter)\n",
    "        if c >= 3:\n",
    "            self.spins_with_bonus_spins += 1\n",
    "        for k, v in self.free_spins.items():\n",
    "            self.bonus_play += int(c / k) * v\n",
    "            c = c % k\n",
    "\n",
    "    def play(self, iters):\n",
    "        payment = 0\n",
    "        total_iters = 0;\n",
    "        self.probs = np.zeros((11, 3))\n",
    "        self.bonus_play = 0\n",
    "        total_bonus_spin = 0\n",
    "        self.spins_with_bonus_spins = 0;\n",
    "        for i in range(iters):\n",
    "            self.spin()\n",
    "            total_iters += 1\n",
    "            payment += self.pay()\n",
    "            self.get_free_spins()\n",
    "            while self.bonus_play > 0:\n",
    "                self.bonus_play -= 1\n",
    "                total_bonus_spin += 1\n",
    "                self.spin()\n",
    "                total_iters += 1\n",
    "                payment += self.pay()\n",
    "                self.get_free_spins()\n",
    "        return {'RTP' : payment * 100.0 / (iters * 1000),\n",
    "                'probs': self.probs[2:, :] / total_iters,\n",
    "                'mean value of free spins' : total_bonus_spin/iters,\n",
    "                'probability of a free spin' : self.spins_with_bonus_spins / total_iters}"
   ]
  },
  {
   "cell_type": "code",
   "execution_count": 19,
   "outputs": [
    {
     "name": "stdout",
     "output_type": "stream",
     "text": [
      "{'RTP': 93.7329, 'probs': array([[0.00667176, 0.00159021, 0.00067517],\n",
      "       [0.02560321, 0.00970115, 0.00599659],\n",
      "       [0.02419957, 0.00915923, 0.00608543],\n",
      "       [0.02424399, 0.00969226, 0.00613873],\n",
      "       [0.02442166, 0.00916812, 0.00609431],\n",
      "       [0.05977044, 0.03142212, 0.03018727],\n",
      "       [0.07416225, 0.03772965, 0.0384137 ],\n",
      "       [0.05177499, 0.02563875, 0.02845492],\n",
      "       [0.05999254, 0.03013397, 0.02865925]]), 'mean value of free spins': 0.12564, 'probability of a free spin': 0.018140791016666075}\n",
      "RTPs:  [94.2692, 93.4655, 93.7613, 93.6353, 95.0368, 93.8778, 94.9938, 93.524, 92.6021, 94.3805]\n",
      "mean RTP 93.95463\n"
     ]
    }
   ],
   "source": [
    "reel_1 = [10, 1, 4, 5, 8, 11, 4, 5, 9, 8, 7, 11, 10, 6, 7, 9, 8, 10, 3, 9, 11, 6, 9]\n",
    "reel_2345 = [6, 1, 3, 8, 7, 6, 9, 11, 2, 8, 4, 5, 10, 11, 4, 10, 8, 7, 9, 11, 5, 10, 9]\n",
    "payoff = [\n",
    "    [0, 0, 0, 0, 0],\n",
    "    [0, 0, 0, 0, 0],\n",
    "    [0, 0, 0, 0, 0],\n",
    "    [0, 0, 2000, 10000, 20000],\n",
    "    [0, 0, 1000, 5000, 10000],\n",
    "    [0, 0, 1000, 4000, 6000],\n",
    "    [0, 0, 1000, 2000, 5000],\n",
    "    [0, 0, 500, 1000, 4000],\n",
    "    [0, 0, 500, 1000, 4000],\n",
    "    [0, 0, 100, 500, 2000],\n",
    "    [0, 0, 100, 500, 2000],\n",
    "    [0, 0, 100, 500, 2000]\n",
    "]\n",
    "free_spins = {5: 10, 4: 8, 3: 6}\n",
    "reels = [reel_1, reel_2345, reel_2345, reel_2345, reel_2345]\n",
    "reel_length = len(reel_1)\n",
    "sm = SlotMachine(height=3, width=5, reels=reels, reel_length=reel_length, payoff=payoff, free_spins=free_spins)\n",
    "print(sm.play(100000))\n",
    "rtps = []\n",
    "n = 10\n",
    "for i in range(n):\n",
    "    sm = SlotMachine(height=3, width=5, reels=reels, reel_length=reel_length, payoff=payoff, free_spins=free_spins, seed = i)\n",
    "    rtps.append(sm.play(100000)['RTP'])\n",
    "print('RTPs: ', rtps)\n",
    "print('mean RTP', np.mean(rtps))"
   ],
   "metadata": {
    "collapsed": false,
    "pycharm": {
     "name": "#%%\n"
    }
   }
  },
  {
   "cell_type": "code",
   "execution_count": 8,
   "outputs": [],
   "source": [],
   "metadata": {
    "collapsed": false,
    "pycharm": {
     "name": "#%%\n"
    }
   }
  }
 ],
 "metadata": {
  "kernelspec": {
   "display_name": "Python 3",
   "language": "python",
   "name": "python3"
  },
  "language_info": {
   "codemirror_mode": {
    "name": "ipython",
    "version": 2
   },
   "file_extension": ".py",
   "mimetype": "text/x-python",
   "name": "python",
   "nbconvert_exporter": "python",
   "pygments_lexer": "ipython2",
   "version": "2.7.6"
  }
 },
 "nbformat": 4,
 "nbformat_minor": 0
}