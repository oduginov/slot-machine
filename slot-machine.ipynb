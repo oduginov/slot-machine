{
 "cells": [
  {
   "cell_type": "code",
   "execution_count": 1,
   "metadata": {
    "pycharm": {
     "name": "#%%\n"
    }
   },
   "outputs": [],
   "source": [
    "import enum\n",
    "import numpy as np\n",
    "\n",
    "class Symbol(enum.IntEnum):\n",
    "    SCATTER = 1\n",
    "    WILD = 2\n",
    "    THREE = 3\n",
    "    FOUR = 4\n",
    "    FIVE = 5\n",
    "    SIX = 6\n",
    "    SEVEN = 7\n",
    "    EIGHT = 8\n",
    "    NINE = 9\n",
    "    TEN = 10\n",
    "    ELEVEN = 11\n",
    "\n",
    "class Win(enum.IntEnum):\n",
    "    THREE = 3\n",
    "    FOUR = 4\n",
    "    FIVE = 5\n",
    "\n",
    "class SlotMachine:\n",
    "    \"\"\"\n",
    "        A model of a slot machine\n",
    "    \"\"\"\n",
    "\n",
    "    def __init__(self, reels = [], height = 3, payoff = np.zeros((len(Symbol) + 1, 5)), free_spins = []):\n",
    "        \"\"\"\n",
    "        C-tor\n",
    "        :param height: int (default 3)\n",
    "                        the height of a window\n",
    "        \"\"\"\n",
    "\n",
    "        self.reels = reels\n",
    "        self.height = height\n",
    "        self.rng = np.random.default_rng(seed = 2022)\n",
    "        self.payoff = payoff\n",
    "        self.free_spins = free_spins\n",
    "\n",
    "    def play(self):\n",
    "        window = np.zeros((self.height, len(self.reels)))\n",
    "        pos = self.rng.integers(0, len(self.reels[0]),\n",
    "                                size = len(self.reels),\n",
    "                                dtype = np.int32,\n",
    "                                endpoint = False)\n",
    "        for i in range(len(self.reels)):\n",
    "            for j in range(self.height):\n",
    "                window[j][i] = self.reels[i][(pos[i] + j) % len(self.reels[i])]\n",
    "        return window\n",
    "\n",
    "    def get_prob(self, type_win = Win.FIVE, symbol = Symbol.THREE):\n",
    "        \"\"\"\n",
    "        Compute probability of the specific combination on reels\n",
    "        :param symbol:\n",
    "        :param type_win:\n",
    "        :return: float,\n",
    "                    probability of the combination\n",
    "        \"\"\"\n",
    "\n",
    "        iterations = 100000\n",
    "        count = 0.0;\n",
    "        for i in range(iterations):\n",
    "            window = self.play()\n",
    "            flag = True\n",
    "            for j in range(type_win.value):\n",
    "                if not np.any(\n",
    "                        np.isin(\n",
    "                            [symbol.value, Symbol.WILD.value],\n",
    "                            window[:, j]\n",
    "                        )\n",
    "                ):\n",
    "                    flag = False\n",
    "                    break;\n",
    "            if (type_win.value >= len(self.reels) or\n",
    "                not np.any(\n",
    "                    np.isin(\n",
    "                        [symbol.value, Symbol.WILD.value],\n",
    "                        window[:, type_win.value])\n",
    "                    )\n",
    "                ) and flag:\n",
    "                count += 1\n",
    "        return count / iterations\n",
    "\n",
    "    def test_prob(self):\n",
    "        probs = np.zeros((len(Win), len(Symbol) - 2))\n",
    "        for i in range(len(Win)):\n",
    "            for j in range(len(Symbol) - 2):\n",
    "                probs[i, j] = self.get_prob(Win(Win.THREE + i),\n",
    "                                            Symbol(Symbol.THREE + j))\n",
    "        return probs\n",
    "\n",
    "    def pay(self, window):\n",
    "        m, n = window.shape\n",
    "        winline = 0\n",
    "        for i in range(m):\n",
    "            symbol = Symbol(window[i][0])\n",
    "            j = 0\n",
    "            while j < n and np.any(\n",
    "                    np.isin(\n",
    "                        [symbol, Symbol.WILD.value],\n",
    "                        window[:, j])\n",
    "                    ):\n",
    "                j+=1\n",
    "            winline += self.payoff[symbol][j - 1]\n",
    "        return winline\n",
    "\n",
    "    def mean_pay(self):\n",
    "        iterations = 100000\n",
    "        sum = 0.0\n",
    "        for _ in range(iterations):\n",
    "            sum += self.pay(self.play())\n",
    "        return sum / iterations\n",
    "\n",
    "    def stat_scatters(self):\n",
    "        \"\"\"\n",
    "        Compute statistics for scatters\n",
    "        :return: mean number of spins without free spins, mean free spins\n",
    "        \"\"\"\n",
    "        iterations = 100000\n",
    "        spins = []\n",
    "        r = 0.0\n",
    "        bonus_spins = 0.0\n",
    "        for i in range(iterations):\n",
    "            window = self.play()\n",
    "            r += 1\n",
    "            j = sum(np.count_nonzero(line == Symbol.SCATTER.value) for line in window)\n",
    "            if j >= 3:\n",
    "                spins.append(r)\n",
    "                r = 0\n",
    "            for k, v in self.free_spins.items():\n",
    "                bonus_spins += int(j / k) * v\n",
    "                j = j % k\n",
    "        spins.append(r)\n",
    "        # print(spins)\n",
    "        return np.mean(spins), bonus_spins / iterations"
   ]
  },
  {
   "cell_type": "markdown",
   "metadata": {
    "pycharm": {
     "name": "#%% md\n"
    }
   },
   "source": [
    "We create an instance of class `SlotMachine` based on data from task 2"
   ]
  },
  {
   "cell_type": "code",
   "execution_count": 2,
   "metadata": {
    "pycharm": {
     "name": "#%%\n"
    }
   },
   "outputs": [],
   "source": [
    "reel_1 = [10, 1, 4, 5, 8, 11, 4, 5, 9, 8, 7, 11, 10, 6, 7, 9, 8, 10, 3, 9, 11, 6, 9]\n",
    "reel_2345 = [6, 1, 3, 8, 7, 6, 9, 11, 2, 8, 4, 5, 10, 11, 4, 10, 8, 7, 9, 11, 5, 10, 9]\n",
    "payoff = [\n",
    "    [0, 0, 0, 0, 0],\n",
    "    [0, 0, 0, 0, 0],\n",
    "    [0, 0, 0, 0, 0],\n",
    "    [0, 0, 2000, 10000, 20000],\n",
    "    [0, 0, 1000, 5000, 10000],\n",
    "    [0, 0, 1000, 4000, 6000],\n",
    "    [0, 0, 1000, 2000, 5000],\n",
    "    [0, 0, 500, 1000, 4000],\n",
    "    [0, 0, 500, 1000, 4000],\n",
    "    [0, 0, 100, 500, 2000],\n",
    "    [0, 0, 100, 500, 2000],\n",
    "    [0, 0, 100, 500, 2000]\n",
    "]\n",
    "free_spins = {5: 10, 4: 8, 3: 6}\n",
    "sm = SlotMachine([reel_1, reel_2345, reel_2345, reel_2345, reel_2345], payoff = payoff, free_spins=free_spins)"
   ]
  },
  {
   "cell_type": "markdown",
   "metadata": {
    "pycharm": {
     "name": "#%% md\n"
    }
   },
   "source": [
    "We find probabilities of winning combinations. In the obtained matrix the first column contains probabilities of the winning combinations with the first three symbols of 2 or 3, with the first four symbols of 2 or 3 and all five symbols of 2 or 3. The second column consists of probabilities of the winning combinations with the first three symbols of 2 or 4, with the first four symbols of 2 or 4 and the five symbols of 2 or 4 etc."
   ]
  },
  {
   "cell_type": "code",
   "execution_count": 3,
   "metadata": {
    "pycharm": {
     "name": "#%%\n"
    }
   },
   "outputs": [
    {
     "name": "stdout",
     "output_type": "stream",
     "text": [
      "[[0.00658 0.02028 0.02445 0.02457 0.02426 0.04151 0.06164 0.05175 0.04125]\n",
      " [0.00177 0.00711 0.00945 0.0093  0.00938 0.01844 0.02992 0.02704 0.01711]\n",
      " [0.00054 0.00428 0.00617 0.00613 0.00611 0.01433 0.02705 0.02888 0.01471]]\n"
     ]
    }
   ],
   "source": [
    "print(sm.test_prob())"
   ]
  },
  {
   "cell_type": "markdown",
   "metadata": {
    "pycharm": {
     "name": "#%% md\n"
    }
   },
   "source": [
    "We find mean payback for a player"
   ]
  },
  {
   "cell_type": "code",
   "execution_count": 4,
   "metadata": {
    "pycharm": {
     "name": "#%%\n"
    }
   },
   "outputs": [
    {
     "data": {
      "text/plain": [
       "648.23"
      ]
     },
     "execution_count": 4,
     "metadata": {},
     "output_type": "execute_result"
    }
   ],
   "source": [
    "sm.mean_pay()"
   ]
  },
  {
   "cell_type": "markdown",
   "metadata": {
    "pycharm": {
     "name": "#%% md\n"
    }
   },
   "source": [
    "We find the mean number of spins without bonus spins and mean number of free spins"
   ]
  },
  {
   "cell_type": "code",
   "execution_count": 5,
   "metadata": {
    "pycharm": {
     "name": "#%%\n"
    }
   },
   "outputs": [
    {
     "data": {
      "text/plain": [
       "(57.736720554272516, 0.10644)"
      ]
     },
     "execution_count": 5,
     "metadata": {},
     "output_type": "execute_result"
    }
   ],
   "source": [
    "sm.stat_scatters()"
   ]
  }
 ],
 "metadata": {
  "kernelspec": {
   "display_name": "Python 3 (ipykernel)",
   "language": "python",
   "name": "python3"
  },
  "language_info": {
   "codemirror_mode": {
    "name": "ipython",
    "version": 3
   },
   "file_extension": ".py",
   "mimetype": "text/x-python",
   "name": "python",
   "nbconvert_exporter": "python",
   "pygments_lexer": "ipython3",
   "version": "3.10.4"
  }
 },
 "nbformat": 4,
 "nbformat_minor": 1
}